{
 "cells": [
  {
   "cell_type": "markdown",
   "id": "df65e58e",
   "metadata": {},
   "source": [
    "# lesson 1"
   ]
  },
  {
   "cell_type": "code",
   "execution_count": 5,
   "id": "e7663e7b",
   "metadata": {},
   "outputs": [
    {
     "name": "stdout",
     "output_type": "stream",
     "text": [
      "Hello\n"
     ]
    }
   ],
   "source": [
    "print('Hello')"
   ]
  },
  {
   "cell_type": "code",
   "execution_count": 6,
   "id": "06a632e7",
   "metadata": {},
   "outputs": [
    {
     "name": "stdout",
     "output_type": "stream",
     "text": [
      "Hello Ali\n"
     ]
    }
   ],
   "source": [
    "print('Hello'+' '+'Ali')"
   ]
  },
  {
   "cell_type": "code",
   "execution_count": 7,
   "id": "7527679e",
   "metadata": {},
   "outputs": [
    {
     "name": "stdout",
     "output_type": "stream",
     "text": [
      "Hello\n",
      "My name is ali\n"
     ]
    }
   ],
   "source": [
    "print('Hello\\nMy name is ali')"
   ]
  },
  {
   "cell_type": "code",
   "execution_count": 8,
   "id": "e5cf70d1",
   "metadata": {},
   "outputs": [
    {
     "name": "stdout",
     "output_type": "stream",
     "text": [
      "What is your name ?Ali\n",
      "HelloAli!\n"
     ]
    }
   ],
   "source": [
    "print(\"Hello\" +input(\"What is your name ?\")+\"!\") "
   ]
  },
  {
   "cell_type": "code",
   "execution_count": 9,
   "id": "614a3414",
   "metadata": {},
   "outputs": [
    {
     "name": "stdout",
     "output_type": "stream",
     "text": [
      "Hello Ali\n",
      "4\n"
     ]
    }
   ],
   "source": [
    "print(len(input('Hello')))"
   ]
  },
  {
   "cell_type": "code",
   "execution_count": 10,
   "id": "9d34b1cc",
   "metadata": {},
   "outputs": [
    {
     "name": "stdout",
     "output_type": "stream",
     "text": [
      "What is your name?Ali\n",
      "Ali\n"
     ]
    }
   ],
   "source": [
    "name=input('What is your name?')\n",
    "print(name)"
   ]
  },
  {
   "cell_type": "code",
   "execution_count": 11,
   "id": "475bb66d",
   "metadata": {},
   "outputs": [
    {
     "name": "stdout",
     "output_type": "stream",
     "text": [
      "What is your name?Ali\n",
      "3\n"
     ]
    }
   ],
   "source": [
    "print(len(input('What is your name?')))"
   ]
  },
  {
   "cell_type": "code",
   "execution_count": 12,
   "id": "b6308e2b",
   "metadata": {
    "scrolled": true
   },
   "outputs": [
    {
     "name": "stdout",
     "output_type": "stream",
     "text": [
      "What is your name?Ali\n",
      "3\n"
     ]
    }
   ],
   "source": [
    "name=input('What is your name?')\n",
    "length=len(name)\n",
    "print(length)"
   ]
  },
  {
   "cell_type": "code",
   "execution_count": 15,
   "id": "a9e3dd3d",
   "metadata": {},
   "outputs": [
    {
     "name": "stdout",
     "output_type": "stream",
     "text": [
      "a: 1\n",
      "b: 2\n",
      "a: 2\n",
      "b: 1\n"
     ]
    }
   ],
   "source": [
    "a = input(\"a: \")\n",
    "b = input(\"b: \")\n",
    "\n",
    "c = a\n",
    "a=b\n",
    "b=c\n",
    "\n",
    "print(\"a: \" + a)\n",
    "print(\"b: \" + b)"
   ]
  },
  {
   "cell_type": "code",
   "execution_count": 17,
   "id": "d8465fab",
   "metadata": {},
   "outputs": [
    {
     "name": "stdout",
     "output_type": "stream",
     "text": [
      "welcome to the band name generatior.\n",
      "which city did you grow up in?\n",
      "antalya\n",
      "what is the name of pet ? \n",
      "bay\n",
      "your band name could beantalyapet\n"
     ]
    }
   ],
   "source": [
    "print(\"welcome to the band name generatior.\")\n",
    "city = input(\"which city did you grow up in?\\n\")\n",
    "pet = input(\"what is the name of pet ? \\n\")\n",
    "print(\"your band name could be\"+city+\"\"+\"pet\")"
   ]
  },
  {
   "cell_type": "markdown",
   "id": "7ca9278d",
   "metadata": {},
   "source": [
    "# Lesson 2"
   ]
  },
  {
   "cell_type": "code",
   "execution_count": 18,
   "id": "978f6982",
   "metadata": {},
   "outputs": [
    {
     "name": "stdout",
     "output_type": "stream",
     "text": [
      "Welcome to the tip calculator!\n",
      "What was the total bill? $7\n",
      "How much tip would you like to give? 10, 12, or 15? 12\n",
      "How many people to split the bill?56\n"
     ]
    }
   ],
   "source": [
    "print(\"Welcome to the tip calculator!\")\n",
    "bill = float(input(\"What was the total bill? $\"))\n",
    "tip = int(input(\"How much tip would you like to give? 10, 12, or 15? \"))\n",
    "people = int(input(\"How many people to split the bill?\"))\n",
    "\n",
    "tip_as_percent = tip / 100\n",
    "total_tip_amount = bill * tip_as_percent\n",
    "total_bill = bill + total_tip_amount\n",
    "bill_per_person = total_bill / people\n",
    "final_amount = round(bill_per_person, 2)"
   ]
  },
  {
   "cell_type": "code",
   "execution_count": 19,
   "id": "1596b2a8",
   "metadata": {},
   "outputs": [
    {
     "name": "stdout",
     "output_type": "stream",
     "text": [
      "Type a two digit number: 56\n",
      "11\n"
     ]
    }
   ],
   "source": [
    "two_digit_number = input(\"Type a two digit number: \")\n",
    "\n",
    "first_digit = two_digit_number[0]\n",
    "second_digit = two_digit_number[1]\n",
    "\n",
    "resuld =int(first_digit) + int(second_digit)\n",
    "print(resuld)"
   ]
  },
  {
   "cell_type": "code",
   "execution_count": 20,
   "id": "0e5a8eea",
   "metadata": {},
   "outputs": [
    {
     "name": "stdout",
     "output_type": "stream",
     "text": [
      "What is your current age? 56\n",
      "You have 12410 days,1768 weeks, and 408 months left.\n"
     ]
    }
   ],
   "source": [
    "age = input(\"What is your current age? \")\n",
    "\n",
    "age_as_int= int(age)\n",
    "years_remaining= 90 - age_as_int \n",
    "days_remaining =years_remaining * 365\n",
    "weeks_remaining= years_remaining *52\n",
    "months_remaining = years_remaining *12\n",
    "\n",
    "\n",
    "massage= f\"You have {days_remaining} days,{weeks_remaining} weeks, and {months_remaining} months left.\"\n",
    "print(massage)"
   ]
  },
  {
   "cell_type": "code",
   "execution_count": 21,
   "id": "d47ff33f",
   "metadata": {},
   "outputs": [
    {
     "name": "stdout",
     "output_type": "stream",
     "text": [
      "enter your height in m: 170\n",
      "enter your weight in kg: 70\n",
      "0\n"
     ]
    }
   ],
   "source": [
    "#BOY KILO INDEKS!!!!#\n",
    "\n",
    "height = input(\"enter your height in m: \")\n",
    "weight = input(\"enter your weight in kg: \")\n",
    "\n",
    "\n",
    "bmi=int(weight)/float(height)**2\n",
    "bmi_as_int =int(bmi)\n",
    "print(bmi_as_int)"
   ]
  },
  {
   "cell_type": "code",
   "execution_count": 22,
   "id": "dc6d6b21",
   "metadata": {},
   "outputs": [
    {
     "name": "stdout",
     "output_type": "stream",
     "text": [
      "Welcome to the tip calculator!\n",
      "What was the total bill? $79\n",
      "How much tip would you like to give? 10, 12, or 15? 12\n",
      "How many people to split the bill?60\n",
      "Each person should pay: $1.47\n"
     ]
    }
   ],
   "source": [
    "#BAHSIS HESAPLAYICI###\n",
    "\n",
    "print(\"Welcome to the tip calculator!\")\n",
    "bill = float(input(\"What was the total bill? $\"))\n",
    "tip = int(input(\"How much tip would you like to give? 10, 12, or 15? \"))\n",
    "people = int(input(\"How many people to split the bill?\"))\n",
    "\n",
    "tip_as_percent = tip / 100\n",
    "total_tip_amount = bill * tip_as_percent\n",
    "total_bill = bill + total_tip_amount\n",
    "bill_per_person = total_bill / people\n",
    "final_amount = round(bill_per_person, 2)\n",
    "\n",
    "print(f\"Each person should pay: ${final_amount}\")"
   ]
  },
  {
   "cell_type": "markdown",
   "id": "7dc37b97",
   "metadata": {},
   "source": [
    "# lesson 3"
   ]
  },
  {
   "cell_type": "code",
   "execution_count": 24,
   "id": "e5cf8453",
   "metadata": {},
   "outputs": [
    {
     "name": "stdout",
     "output_type": "stream",
     "text": [
      "Welcome to the rollercoaster!\n",
      "What is your height in cm? 176\n"
     ]
    }
   ],
   "source": [
    "print(\"Welcome to the rollercoaster!\")\n",
    "height = int(input(\"What is your height in cm? \"))"
   ]
  },
  {
   "cell_type": "code",
   "execution_count": 25,
   "id": "a0787dbf",
   "metadata": {},
   "outputs": [
    {
     "name": "stdout",
     "output_type": "stream",
     "text": [
      "Which number do you want to check? 76\n",
      "This is a even number.\n"
     ]
    }
   ],
   "source": [
    "number = int(input(\"Which number do you want to check? \"))\n",
    "\n",
    "if number % 2 == 0:\n",
    "    print(\"This is a even number.\")\n",
    "\n",
    "else:\n",
    "     print(\"This is an odd number.\")"
   ]
  },
  {
   "cell_type": "code",
   "execution_count": 26,
   "id": "f858a7f0",
   "metadata": {},
   "outputs": [
    {
     "name": "stdout",
     "output_type": "stream",
     "text": [
      "enter your height in m: 45\n",
      "enter your weight in kg: 45\n",
      "your bmi is0, You are underweight.\n"
     ]
    }
   ],
   "source": [
    "#Talimatlar\n",
    "#Kullanıcının kilosuna ve boyuna göre Beden Kitle İndeksini (BMI) yorumlayan bir program yazın.\n",
    "#Onlara BMI değerine göre BMI'larının yorumunu anlatmalıdır.\n",
    "\n",
    "#18,5 yaş altı zayıftır\n",
    "#18,5'un üzerinde ancak 25'in altında normal kiloya sahiptirler\n",
    "#25 yaş üstü ancak 30 yaş altı hafif kiloludur\n",
    "#30'un üzerinde ancak 35'in altında olanlar obezdir\n",
    "#35'in üzerinde olanlar klinik olarak obezdir.\n",
    "\n",
    "\n",
    "height = float(input(\"enter your height in m: \"))\n",
    "weight = float(input(\"enter your weight in kg: \"))\n",
    "\n",
    "\n",
    "\n",
    "bmi=(round (weight /height ** 2))\n",
    "if bmi < 18.5:\n",
    "    print(f\"your bmi is{bmi}, You are underweight.\")\n",
    "elif bmi <25 :\n",
    "    print(f\"your bmi is {bmi}, You are normal weight.\")\n",
    "elif bmi  <30:\n",
    "      print(f\"your bmi is {bmi}, You are  slightly overweight.\")\n",
    "elif bmi <35 :\n",
    "    print(f\"your bmi is {bmi}, You are obese.\")\n",
    "else:\n",
    "    print(f\"your bmi is {bmi}, You are clinically obese.\")"
   ]
  },
  {
   "cell_type": "code",
   "execution_count": 27,
   "id": "fcac3ae9",
   "metadata": {},
   "outputs": [
    {
     "name": "stdout",
     "output_type": "stream",
     "text": [
      "Which year do you want to check? 67\n",
      "not leap year.\n"
     ]
    }
   ],
   "source": [
    "#Talimatlar\n",
    "#Belirli bir yılın artık yıl olup olmadığını hesaplayan bir program yazınız. Normal bir yılda 365 gün, artık yıllarda ise 366 gün vardır ve Şubat ayında fazladan bir gün vardır. Artık yıllara sahip olmamızın nedeni gerçekten büyüleyici, bu video bunu daha iyi yansıtıyor:\n",
    "\n",
    "#Belirli bir yılın artık yıl olup olmadığını bu şekilde anlarsınız.\n",
    "\n",
    "#her yıl 4'e eşit olarak bölünebilen \n",
    "\n",
    "#**hariç** 100'e eşit olarak bölünebilen her yıl \n",
    "\n",
    "#**tabii ki yıl** 400'e eşit olarak bölünemiyorsa\n",
    "\n",
    "#örneğin 2000 yılı:\n",
    "\n",
    "#2000 ÷ 4 = 500 (Sıçrama)\n",
    "\n",
    "#2000 ÷ 100 = 20 (Sıçrama Değil)\n",
    "\n",
    "#2000 ÷ 400 = 5 (Sıçrama!)\n",
    "\n",
    "#Yani 2000 yılı artık yıldır.\n",
    "\n",
    "#Ancak 2100 yılı artık bir yıl değil çünkü:\n",
    "\n",
    "#2100 ÷ 4 = 525 (Sıçrama)\n",
    "\n",
    "#2100 ÷ 100 = 21 (Sıçrama Değil)\n",
    "\n",
    "#2100 ÷ 400 = 5,25 (Sıçrama Değil)\n",
    "\n",
    "#Uyarı çıktınızın, virgül ve nokta konumları dahil olmak üzere Örnek Çıktı formatıyla tam olarak eşleşmesi gerekir.\n",
    "\n",
    "\n",
    "year = int(input(\"Which year do you want to check? \"))\n",
    "\n",
    "\n",
    "\n",
    "if year % 4 == 0:\n",
    "    if year % 100==0:\n",
    "        if year % 400 ==0:\n",
    "          print(\"leap year\")\n",
    "        else:\n",
    "            print(\"not leap year.\")\n",
    "    else:\n",
    "        print(\"leap year.\")\n",
    "else:\n",
    "    print(\"not leap year.\")"
   ]
  },
  {
   "cell_type": "code",
   "execution_count": 28,
   "id": "e6cb2c62",
   "metadata": {},
   "outputs": [
    {
     "name": "stdout",
     "output_type": "stream",
     "text": [
      "Welcome to the rollercoaster!\n",
      "What is your height in cm? 176\n",
      "You can ride the rollercoaster!\n",
      "What is your age? 30\n",
      "Adult tickets are $12.\n",
      "Do you want a photo taken? Y or N. n\n",
      "Your final bill is $12\n"
     ]
    }
   ],
   "source": [
    "print(\"Welcome to the rollercoaster!\")\n",
    "height = int(input(\"What is your height in cm? \"))\n",
    "bill = 0\n",
    "\n",
    "if height >= 120:\n",
    "  print(\"You can ride the rollercoaster!\")\n",
    "  age = int(input(\"What is your age? \"))\n",
    "  if age < 12:\n",
    "    bill = 5\n",
    "    print(\"Child tickets are $5.\")\n",
    "  elif age <= 18:\n",
    "    bill = 7\n",
    "    print(\"Youth tickets are $7.\")\n",
    "  else:\n",
    "    bill = 12\n",
    "    print(\"Adult tickets are $12.\")\n",
    "  \n",
    "  wants_photo = input(\"Do you want a photo taken? Y or N. \")\n",
    "  if wants_photo == \"Y\":\n",
    "    bill += 3\n",
    "  \n",
    "  print(f\"Your final bill is ${bill}\")\n",
    "\n",
    "else:\n",
    "  print(\"Sorry, you have to grow taller before you can ride.\")"
   ]
  },
  {
   "cell_type": "code",
   "execution_count": 29,
   "id": "cfb7f46c",
   "metadata": {},
   "outputs": [
    {
     "name": "stdout",
     "output_type": "stream",
     "text": [
      "Welcome to Python Pizza Deliveries!\n",
      "What size pizza do you want? S, M, or L s\n",
      "Do you want pepperoni? Y or N y\n",
      "Do you want extra cheese? Y or N y\n",
      "Your final bill is$25\n"
     ]
    }
   ],
   "source": [
    "#PIZZA SPARIS UYGULAMASI\n",
    "#Talimatlar\n",
    "#Tebrikler, Python Pizza'da bir işiniz var. İlk işiniz otomatik pizza sipariş programı oluşturmaktır.\n",
    "#Kullanıcının siparişine göre son faturasını hesaplayın.\n",
    "#Küçük Pizza: 15$\n",
    "#Orta Boy Pizza: 20$\n",
    "#Büyük Pizza: 25$\n",
    "#Küçük Pizza için Pepperoni: +$2\n",
    "#Orta ve Büyük Boy Pizza için Pepperoni: +$3\n",
    "#Her boyuttaki pizza için ekstra peynir: + 1 $\n",
    "\n",
    "\n",
    "print(\"Welcome to Python Pizza Deliveries!\")\n",
    "size = input(\"What size pizza do you want? S, M, or L \")\n",
    "add_pepperoni = input(\"Do you want pepperoni? Y or N \")\n",
    "extra_cheese = input(\"Do you want extra cheese? Y or N \")\n",
    "\n",
    "\n",
    "bill = 0\n",
    "\n",
    "if size == \"S\":\n",
    "    bill += 15\n",
    "elif size ==\"M\":\n",
    "    bill+= 20\n",
    "elif size ==\"L\":\n",
    "    bill += 25\n",
    "else:\n",
    "    bill += 25\n",
    "\n",
    "if add_pepperoni ==\"Y\":\n",
    "  if size==\"S\":\n",
    "    bill+=2\n",
    "  else:\n",
    "    bill +=3\n",
    "if extra_cheese==\"Y\":\n",
    "    bill +=1\n",
    "\n",
    "print(f\"Your final bill is${bill}\")"
   ]
  },
  {
   "cell_type": "code",
   "execution_count": 30,
   "id": "0d0feaa5",
   "metadata": {},
   "outputs": [
    {
     "name": "stdout",
     "output_type": "stream",
     "text": [
      "Welcome to the Love Calculator!\n",
      "What is your name? \n",
      "ali\n",
      "What is their name? \n",
      "x\n",
      "Your  score is1, you are alright together like coke and mentos.\n"
     ]
    }
   ],
   "source": [
    "#PROJE\n",
    " \n",
    "print(\"Welcome to the Love Calculator!\")\n",
    "name1 = input(\"What is your name? \\n\")\n",
    "name2 = input(\"What is their name? \\n\")\n",
    "\n",
    "\n",
    "combined_string =  name1 + name2\n",
    "lower_case_string=combined_string.lower()\n",
    "\n",
    "t=lower_case_string.count(\"t\")\n",
    "r=lower_case_string.count(\"r\")\n",
    "u=lower_case_string.count(\"u\")\n",
    "e=lower_case_string.count(\"e\")\n",
    "\n",
    "true=t+r+u+e\n",
    "l=lower_case_string.count(\"l\")\n",
    "o=lower_case_string.count(\"o\")\n",
    "v=lower_case_string.count(\"v\")\n",
    "e=lower_case_string.count(\"e\")\n",
    "\n",
    "love= l+o+v+e\n",
    "\n",
    "love_score = int(str(true)+str(love))\n",
    "\n",
    "\n",
    "if (love_score< 10) or (love_score>90):\n",
    "    print(f\"Your  score is{love_score}, you are alright together like coke and mentos.\")\n",
    "elif(love_score>=40) and (love_score<50):\n",
    "    print(f\"Your  score is{love_score}, you are  alright together.\")   \n",
    "else:\n",
    "    print(f\"Your score is{love_score}\")"
   ]
  },
  {
   "cell_type": "code",
   "execution_count": null,
   "id": "50a83e4d",
   "metadata": {},
   "outputs": [
    {
     "name": "stdout",
     "output_type": "stream",
     "text": [
      "\n",
      "*******************************************************************************\n",
      "          |                   |                  |                     |\n",
      " _________|________________.=\"\"_;=.______________|_____________________|_______\n",
      "|                   |  ,-\"_,=\"\"     `\"=.|                  |\n",
      "|___________________|__\"=._o`\"-._        `\"=.______________|___________________\n",
      "          |                `\"=._o`\"=._      _`\"=._                     |\n",
      " _________|_____________________:=._o \"=._.\"_.-=\"'\"=.__________________|_______\n",
      "|                   |    __.--\" , ; `\"=._o.\" ,-\"\"\"-._ \".   |\n",
      "|___________________|_._\"  ,. .` ` `` ,  `\"-._\"-._   \". '__|___________________\n",
      "          |           |o`\"=._` , \"` `; .\". ,  \"-._\"-._; ;              |\n",
      " _________|___________| ;`-.o`\"=._; .\" ` '`.\"\\` . \"-._ /_______________|_______\n",
      "|                   | |o;    `\"-.o`\"=._``  '` \" ,__.--o;   |\n",
      "|___________________|_| ;     (#) `-.o `\"=.`_.--\"_o.-; ;___|___________________\n",
      "____/______/______/___|o;._    \"      `\".o|o_.--\"    ;o;____/______/______/____\n",
      "/______/______/______/_\"=._o--._        ; | ;        ; ;/______/______/______/_\n",
      "____/______/______/______/__\"=._o--._   ;o|o;     _._;o;____/______/______/____\n",
      "/______/______/______/______/____\"=._o._; | ;_.--\"o.--\"_/______/______/______/_\n",
      "____/______/______/______/______/_____\"=.o|o_.--\"\"___/______/______/______/____\n",
      "/______/______/______/______/______/______/______/______/______/______/_____ /\n",
      "*******************************************************************************\n",
      "\n",
      "Welcome to Treasure Island.\n",
      "Your mission is to find the treasure.\n",
      "You're at a cross road. Where do you want to go? Type \"left\" or \"right\" \n",
      "left\n"
     ]
    }
   ],
   "source": [
    "# DEFINE ADASI PROJESI\n",
    "\n",
    "print('''\n",
    "*******************************************************************************\n",
    "          |                   |                  |                     |\n",
    " _________|________________.=\"\"_;=.______________|_____________________|_______\n",
    "|                   |  ,-\"_,=\"\"     `\"=.|                  |\n",
    "|___________________|__\"=._o`\"-._        `\"=.______________|___________________\n",
    "          |                `\"=._o`\"=._      _`\"=._                     |\n",
    " _________|_____________________:=._o \"=._.\"_.-=\"'\"=.__________________|_______\n",
    "|                   |    __.--\" , ; `\"=._o.\" ,-\"\"\"-._ \".   |\n",
    "|___________________|_._\"  ,. .` ` `` ,  `\"-._\"-._   \". '__|___________________\n",
    "          |           |o`\"=._` , \"` `; .\". ,  \"-._\"-._; ;              |\n",
    " _________|___________| ;`-.o`\"=._; .\" ` '`.\"\\` . \"-._ /_______________|_______\n",
    "|                   | |o;    `\"-.o`\"=._``  '` \" ,__.--o;   |\n",
    "|___________________|_| ;     (#) `-.o `\"=.`_.--\"_o.-; ;___|___________________\n",
    "____/______/______/___|o;._    \"      `\".o|o_.--\"    ;o;____/______/______/____\n",
    "/______/______/______/_\"=._o--._        ; | ;        ; ;/______/______/______/_\n",
    "____/______/______/______/__\"=._o--._   ;o|o;     _._;o;____/______/______/____\n",
    "/______/______/______/______/____\"=._o._; | ;_.--\"o.--\"_/______/______/______/_\n",
    "____/______/______/______/______/_____\"=.o|o_.--\"\"___/______/______/______/____\n",
    "/______/______/______/______/______/______/______/______/______/______/_____ /\n",
    "*******************************************************************************\n",
    "''')\n",
    "print(\"Welcome to Treasure Island.\")\n",
    "print(\"Your mission is to find the treasure.\")\n",
    "\n",
    "choice1 = input('You\\'re at a cross road. Where do you want to go? Type \"left\" or \"right\" \\n').lower()\n",
    "if choice1 == \"left\":\n",
    "  choice2 = input('You\\'ve come to a lake. There is an island in the middle of the lake. Type \"wait\" to wait for a boat. Type \"swim\" to swim across. \\n').lower()\n",
    "  if choice2 == \"wait\":\n",
    "    choice3 = input(\"You arrive at the island unharmed. There is a house with 3 doors. One red, one yellow and one blue. Which colour do you choose? \\n\").lower()\n",
    "    if choice3 == \"red\":\n",
    "      print(\"It's a room full of fire. Game Over.\")\n",
    "    elif choice3 == \"yellow\":\n",
    "      print(\"You found the treasure! You Win!\")\n",
    "    elif choice3 == \"blue\":\n",
    "      print(\"You enter a room of beasts. Game Over.\")\n",
    "    else:\n",
    "      print(\"You chose a door that doesn't exist. Game Over.\")\n",
    "  else:\n",
    "    print(\"You get attacked by an angry trout. Game Over.\")\n",
    "else:\n",
    "  print(\"You fell into a hole. Game Over.\")"
   ]
  },
  {
   "cell_type": "markdown",
   "id": "0fc5cd49",
   "metadata": {},
   "source": [
    "# lesson 4"
   ]
  },
  {
   "cell_type": "code",
   "execution_count": null,
   "id": "b1e0247c",
   "metadata": {},
   "outputs": [],
   "source": [
    "import random\n",
    "\n",
    "rock = '''\n",
    "    _______\n",
    "---'   ____)\n",
    "      (_____)\n",
    "      (_____)\n",
    "      (____)\n",
    "---.__(___)\n",
    "'''\n",
    "\n",
    "paper = '''\n",
    "    _______\n",
    "---'   ____)____\n",
    "          ______)\n",
    "          _______)\n",
    "         _______)\n",
    "---.__________)\n",
    "'''\n",
    "\n",
    "scissors = '''\n",
    "    _______\n",
    "---'   ____)____\n",
    "          ______)\n",
    "       __________)\n",
    "      (____)\n",
    "---.__(___)\n",
    "'''\n",
    "\n",
    "game_images = [rock, paper, scissors]\n",
    "\n",
    "user_choice = int(input(\"What do you choose? Type 0 for Rock, 1 for Paper or 2 for Scissors.\\n\"))\n",
    "print(game_images[user_choice])\n",
    "\n",
    "computer_choice = random.randint(0, 2)\n",
    "print(\"Computer chose:\")\n",
    "print(game_images[computer_choice])\n",
    "\n",
    "if user_choice >= 3 or user_choice < 0: \n",
    "  print(\"You typed an invalid number, you lose!\") \n",
    "elif user_choice == 0 and computer_choice == 2:\n",
    "  print(\"You win!\")\n",
    "elif computer_choice == 0 and user_choice == 2:\n",
    "  print(\"You lose\")\n",
    "elif computer_choice > user_choice:\n",
    "  print(\"You lose\")\n",
    "elif user_choice > computer_choice:\n",
    "  print(\"You win!\")\n",
    "elif computer_choice == user_choice:\n",
    "  print(\"It's a draw\")"
   ]
  },
  {
   "cell_type": "code",
   "execution_count": null,
   "id": "1624bd56",
   "metadata": {},
   "outputs": [],
   "source": [
    "###YAZI TURA######\n",
    "\n",
    "#Talimatlar\n",
    "#Sanal bir yazı tura atma programı yazacaksınız. Kullanıcıya rastgele \"Yazı\" veya \"Yazı\" diyecektir.\n",
    "#Önemli , ilk harf büyük harfle yazılmalı ve tam olarak örnekteki gibi yazılmalıdır; örneğin, tura değil, tura.\n",
    "#Bunu yapmanın birçok yolu var. Ancak son derste öğrendiklerimizi uygulamak için 0 veya 1 gibi rastgele bir sayı oluşturmalısınız. Daha sonra bu sayıyı Yazı veya Tura çıktısı almak için kullanın.\n",
    "#örneğin 1 Yazı anlamına gelir 0 Yazı anlamına gelir\n",
    "\n",
    "\n",
    "import random\n",
    "\n",
    "random_side=random.randint(0,1)\n",
    "if random_side == 1:\n",
    "    print(\"Heads\")\n",
    "else:\n",
    "    print(\"Tails\")"
   ]
  },
  {
   "cell_type": "code",
   "execution_count": null,
   "id": "07d0aab0",
   "metadata": {},
   "outputs": [],
   "source": [
    "states_of_america = [\"Delaware\", \"Pennsylvania\", \"New Jersey\", \"Georgia\", \"Connecticut\", \n",
    "\"Massachusetts\", \"Maryland\", \"South Carolina\", \"New Hampshire\", \"Virginia\", \"New York\", \n",
    "\"North Carolina\", \"Rhode Island\",\"Vermont\", \"Kentucky\", \"Tennessee\",\"Ohio\", \"Louisiana\",\n",
    " \"Indiana\", \"Mississippi\", \"Illinois\", \"Alabama\", \"Maine\", \"Missouri\", \"Arkansas\", \"Michigan\",\n",
    " \"Florida\", \"Texas\", \"Iowa\", \"Wisconsin\",\"California\", \"Minnesota\", \"Oregon\", \"Kansas\",\n",
    "\"West Virginia\", \"Nevada\", \"Nebraska\",\"Colorado\", \"North Dakota\", \"South Dakota\", \"Montana\",\n",
    " \"Washington\", \"Idaho\", \"Wyoming\", \"Utah\", \"Oklahoma\",\"New Mexico\", \"Arizona\", \"Alaska\", \"Hawaii\"]\n",
    "\n",
    "#sayi ile eyalet arama\n",
    "print(states_of_america[])\n",
    "\n",
    "#yeni eyalet eklemek eklemek icin\n",
    " states_of_america.append('laland')\n"
   ]
  },
  {
   "cell_type": "code",
   "execution_count": null,
   "id": "e6caf882",
   "metadata": {},
   "outputs": [],
   "source": [
    "####HESAP ODEME ROBOTU#####\n",
    "\n",
    "import random\n",
    "\n",
    "names_string = input(\"Give me everybody's names, separated by a comma.\")\n",
    "names = names_string.split(\", \")\n",
    "\n",
    "num_items = len(names)\n",
    " \n",
    "random_choice = random.randint(0,num_items - 1)\n",
    "\n",
    "person_who_will_pay = names[random_choice]\n",
    "print(person_who_will_pay +\" is going to buy the meal today.\")\n",
    "\n",
    "\n"
   ]
  },
  {
   "cell_type": "code",
   "execution_count": null,
   "id": "40e4c7fb",
   "metadata": {},
   "outputs": [],
   "source": [
    "#DAHA AZ KODLA####\n",
    "person_who_whill_pay=random.coice(names)\n",
    "print(person_who_whill_pay +'is going to buy the meal today.')"
   ]
  },
  {
   "cell_type": "code",
   "execution_count": null,
   "id": "5331855f",
   "metadata": {},
   "outputs": [],
   "source": [
    "\n",
    "row1 = [\"⬜️\",\"️⬜️\",\"️⬜️\"]\n",
    "row2 = [\"⬜️\",\"⬜️\",\"️⬜️\"]\n",
    "row3 = [\"⬜️️\",\"⬜️️\",\"⬜️️\"]\n",
    "map = [row1, row2, row3]\n",
    "print(f\"{row1}\\n{row2}\\n{row3}\")\n",
    "position = input(\"Where do you want to put the treasure? \")\n",
    "\n",
    "horizonal=int(position[0])\n",
    "vertical=int(position[1])\n",
    "\n",
    "map[vertical - 1][horizonal -1] = \"X\"\n",
    "\n",
    "\n",
    "print(f\"{row1}\\n{row2}\\n{row3}\")"
   ]
  },
  {
   "cell_type": "code",
   "execution_count": null,
   "id": "1bcf05c3",
   "metadata": {},
   "outputs": [],
   "source": [
    "####TAS KAGIT MAKAS####\n",
    "\n",
    "import random\n",
    "\n",
    "rock = '''\n",
    "    _______\n",
    "---'   ____)\n",
    "      (_____)\n",
    "      (_____)\n",
    "      (____)\n",
    "---.__(___)\n",
    "'''\n",
    "\n",
    "paper = '''\n",
    "    _______\n",
    "---'   ____)____\n",
    "          ______)\n",
    "          _______)\n",
    "         _______)\n",
    "---.__________)\n",
    "'''\n",
    "\n",
    "scissors = '''\n",
    "    _______\n",
    "---'   ____)____\n",
    "          ______)\n",
    "       __________)\n",
    "      (____)\n",
    "---.__(___)\n",
    "'''\n",
    "\n",
    "game_images = [rock, paper, scissors]\n",
    "\n",
    "user_choice = int(input(\"What do you choose? Type 0 for Rock, 1 for Paper or 2 for Scissors.\\n\"))\n",
    "print(game_images[user_choice])\n",
    "\n",
    "computer_choice = random.randint(0, 2)\n",
    "print(\"Computer chose:\")\n",
    "print(game_images[computer_choice])\n",
    "\n",
    "if user_choice >= 3 or user_choice < 0: \n",
    "  print(\"You typed an invalid number, you lose!\") \n",
    "elif user_choice == 0 and computer_choice == 2:\n",
    "  print(\"You win!\")\n",
    "elif computer_choice == 0 and user_choice == 2:\n",
    "  print(\"You lose\")\n",
    "elif computer_choice > user_choice:\n",
    "  print(\"You lose\")\n",
    "elif user_choice > computer_choice:\n",
    "  print(\"You win!\")\n",
    "elif computer_choice == user_choice:\n",
    "  print(\"It's a draw\")"
   ]
  },
  {
   "cell_type": "markdown",
   "id": "e16226ed",
   "metadata": {},
   "source": [
    "# Lesson 5"
   ]
  },
  {
   "cell_type": "code",
   "execution_count": null,
   "id": "564a2e49",
   "metadata": {},
   "outputs": [],
   "source": []
  }
 ],
 "metadata": {
  "kernelspec": {
   "display_name": "Python 3 (ipykernel)",
   "language": "python",
   "name": "python3"
  },
  "language_info": {
   "codemirror_mode": {
    "name": "ipython",
    "version": 3
   },
   "file_extension": ".py",
   "mimetype": "text/x-python",
   "name": "python",
   "nbconvert_exporter": "python",
   "pygments_lexer": "ipython3",
   "version": "3.11.4"
  }
 },
 "nbformat": 4,
 "nbformat_minor": 5
}
